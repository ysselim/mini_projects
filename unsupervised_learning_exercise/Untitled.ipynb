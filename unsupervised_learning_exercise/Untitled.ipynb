{
 "cells": [
  {
   "cell_type": "code",
   "execution_count": 1,
   "id": "800d361e-3ebc-4105-8a9c-ff56fc592065",
   "metadata": {},
   "outputs": [],
   "source": [
    "import scipy"
   ]
  },
  {
   "cell_type": "code",
   "execution_count": 2,
   "id": "08cd6f88-ef50-4011-86d7-c149cd1051cb",
   "metadata": {
    "collapsed": true,
    "jupyter": {
     "outputs_hidden": true
    },
    "tags": []
   },
   "outputs": [
    {
     "name": "stdout",
     "output_type": "stream",
     "text": [
      "Help on package scipy:\n",
      "\n",
      "NAME\n",
      "    scipy\n",
      "\n",
      "DESCRIPTION\n",
      "    SciPy: A scientific computing package for Python\n",
      "    ================================================\n",
      "    \n",
      "    Documentation is available in the docstrings and\n",
      "    online at https://docs.scipy.org.\n",
      "    \n",
      "    Contents\n",
      "    --------\n",
      "    SciPy imports all the functions from the NumPy namespace, and in\n",
      "    addition provides:\n",
      "    \n",
      "    Subpackages\n",
      "    -----------\n",
      "    Using any of these subpackages requires an explicit import. For example,\n",
      "    ``import scipy.cluster``.\n",
      "    \n",
      "    ::\n",
      "    \n",
      "     cluster                      --- Vector Quantization / Kmeans\n",
      "     fft                          --- Discrete Fourier transforms\n",
      "     fftpack                      --- Legacy discrete Fourier transforms\n",
      "     integrate                    --- Integration routines\n",
      "     interpolate                  --- Interpolation Tools\n",
      "     io                           --- Data input and output\n",
      "     linalg                       --- Linear algebra routines\n",
      "     linalg.blas                  --- Wrappers to BLAS library\n",
      "     linalg.lapack                --- Wrappers to LAPACK library\n",
      "     misc                         --- Various utilities that don't have\n",
      "                                      another home.\n",
      "     ndimage                      --- N-D image package\n",
      "     odr                          --- Orthogonal Distance Regression\n",
      "     optimize                     --- Optimization Tools\n",
      "     signal                       --- Signal Processing Tools\n",
      "     signal.windows               --- Window functions\n",
      "     sparse                       --- Sparse Matrices\n",
      "     sparse.linalg                --- Sparse Linear Algebra\n",
      "     sparse.linalg.dsolve         --- Linear Solvers\n",
      "     sparse.linalg.dsolve.umfpack --- :Interface to the UMFPACK library:\n",
      "                                      Conjugate Gradient Method (LOBPCG)\n",
      "     sparse.linalg.eigen          --- Sparse Eigenvalue Solvers\n",
      "     sparse.linalg.eigen.lobpcg   --- Locally Optimal Block Preconditioned\n",
      "                                      Conjugate Gradient Method (LOBPCG)\n",
      "     spatial                      --- Spatial data structures and algorithms\n",
      "     special                      --- Special functions\n",
      "     stats                        --- Statistical Functions\n",
      "    \n",
      "    Utility tools\n",
      "    -------------\n",
      "    ::\n",
      "    \n",
      "     test              --- Run scipy unittests\n",
      "     show_config       --- Show scipy build configuration\n",
      "     show_numpy_config --- Show numpy build configuration\n",
      "     __version__       --- SciPy version string\n",
      "     __numpy_version__ --- Numpy version string\n",
      "\n",
      "PACKAGE CONTENTS\n",
      "    __config__\n",
      "    _build_utils (package)\n",
      "    _distributor_init\n",
      "    _lib (package)\n",
      "    cluster (package)\n",
      "    conftest\n",
      "    constants (package)\n",
      "    fft (package)\n",
      "    fftpack (package)\n",
      "    integrate (package)\n",
      "    interpolate (package)\n",
      "    io (package)\n",
      "    linalg (package)\n",
      "    misc (package)\n",
      "    ndimage (package)\n",
      "    odr (package)\n",
      "    optimize (package)\n",
      "    setup\n",
      "    signal (package)\n",
      "    sparse (package)\n",
      "    spatial (package)\n",
      "    special (package)\n",
      "    stats (package)\n",
      "    version\n",
      "\n",
      "DATA\n",
      "    test = <scipy._lib._testutils.PytestTester object>\n",
      "\n",
      "VERSION\n",
      "    1.7.3\n",
      "\n",
      "FILE\n",
      "    /opt/homebrew/Caskroom/miniforge/base/envs/base_env/lib/python3.8/site-packages/scipy/__init__.py\n",
      "\n",
      "\n"
     ]
    }
   ],
   "source": [
    "help(scipy)"
   ]
  },
  {
   "cell_type": "code",
   "execution_count": 3,
   "id": "5afb2789-8bc9-40d5-8208-852fcafc6752",
   "metadata": {},
   "outputs": [],
   "source": [
    "from pathlib import Path\n",
    "import numpy as np\n",
    "from scipy.cluster.vq import whiten,kmeans,vq"
   ]
  },
  {
   "cell_type": "code",
   "execution_count": 4,
   "id": "1bf76316-c926-4377-9397-73b72eaed4de",
   "metadata": {},
   "outputs": [],
   "source": [
    "data = Path(\"/Users/selimcamlibel/Downloads/smsspamcollection/SMSSpamCollection\").read_text()\n",
    "data = data.strip()\n",
    "data = data.split(\"\\n\")"
   ]
  },
  {
   "cell_type": "code",
   "execution_count": 5,
   "id": "debd0e31-8bb1-445f-9fc4-cdad31846b99",
   "metadata": {},
   "outputs": [],
   "source": [
    "digit_counts = np.empty((len(data), 2), dtype=int)"
   ]
  },
  {
   "cell_type": "code",
   "execution_count": 6,
   "id": "260165c2-dfe6-4617-9ed7-836600f62345",
   "metadata": {},
   "outputs": [
    {
     "data": {
      "text/plain": [
       "array([[2314885591251099692, 2980640920948449312],\n",
       "       [4485090586606444554, 8029477701191690528],\n",
       "       [2979738510894722932, 7809600332629024778],\n",
       "       ...,\n",
       "       [7527520982168789280, 2334397743342576489],\n",
       "       [2334101984730441074, 8387502871098520161],\n",
       "       [2314885530818453514, 2336920843350712352]])"
      ]
     },
     "execution_count": 6,
     "metadata": {},
     "output_type": "execute_result"
    }
   ],
   "source": [
    "digit_counts"
   ]
  },
  {
   "cell_type": "code",
   "execution_count": 7,
   "id": "4a6043b7-c122-4268-9ae9-6ba818f3feba",
   "metadata": {},
   "outputs": [],
   "source": [
    "for i, line in enumerate(data):\n",
    "    case, message = line.split(\"\\t\")\n",
    "    num_digits = sum(c.isdigit() for c in message)\n",
    "    digit_counts[i, 0] = 0 if case == \"ham\" else 1\n",
    "    digit_counts[i, 1] = num_digits"
   ]
  },
  {
   "cell_type": "code",
   "execution_count": 8,
   "id": "2563f8ec-2ecf-4e7b-aeff-8f9d65f122b6",
   "metadata": {},
   "outputs": [
    {
     "data": {
      "text/plain": [
       "array([[ 0,  0],\n",
       "       [ 0,  0],\n",
       "       [ 1, 25],\n",
       "       ...,\n",
       "       [ 0,  0],\n",
       "       [ 0,  0],\n",
       "       [ 0,  0]])"
      ]
     },
     "execution_count": 8,
     "metadata": {},
     "output_type": "execute_result"
    }
   ],
   "source": [
    "digit_counts"
   ]
  },
  {
   "cell_type": "code",
   "execution_count": 9,
   "id": "dbad9b74-9e27-4c66-a1cf-904a5762e407",
   "metadata": {},
   "outputs": [],
   "source": [
    "unique_counts = np.unique(digit_counts[:, 1], return_counts=True)"
   ]
  },
  {
   "cell_type": "code",
   "execution_count": 10,
   "id": "99804cf7-038c-4119-9b13-add8266d9162",
   "metadata": {
    "collapsed": true,
    "jupyter": {
     "outputs_hidden": true
    },
    "tags": []
   },
   "outputs": [
    {
     "data": {
      "text/plain": [
       "(array([ 0,  1,  2,  3,  4,  5,  6,  7,  8,  9, 10, 11, 12, 13, 14, 15, 16,\n",
       "        17, 18, 19, 20, 21, 22, 23, 24, 25, 26, 27, 28, 29, 30, 31, 32, 33,\n",
       "        34, 35, 36, 37, 40, 41, 47]),\n",
       " array([4110,  486,  160,   78,   42,   39,   16,   14,   28,   17,   16,\n",
       "          34,   30,   31,   37,   29,   35,   33,   41,   47,   18,   31,\n",
       "          28,   36,   34,   16,   16,   13,   19,    9,    2,    6,    3,\n",
       "           4,    3,    4,    1,    1,    4,    2,    1]))"
      ]
     },
     "execution_count": 10,
     "metadata": {},
     "output_type": "execute_result"
    }
   ],
   "source": [
    "unique_counts"
   ]
  },
  {
   "cell_type": "code",
   "execution_count": 11,
   "id": "740701ad-b92a-429f-b1d0-32070ee1e048",
   "metadata": {},
   "outputs": [],
   "source": [
    "unique_counts = np.transpose(np.vstack(unique_counts))"
   ]
  },
  {
   "cell_type": "code",
   "execution_count": 12,
   "id": "ea52dcdf-e087-4ad1-b224-d7a8407c66de",
   "metadata": {
    "collapsed": true,
    "jupyter": {
     "outputs_hidden": true
    },
    "tags": []
   },
   "outputs": [
    {
     "data": {
      "text/plain": [
       "array([[   0, 4110],\n",
       "       [   1,  486],\n",
       "       [   2,  160],\n",
       "       [   3,   78],\n",
       "       [   4,   42],\n",
       "       [   5,   39],\n",
       "       [   6,   16],\n",
       "       [   7,   14],\n",
       "       [   8,   28],\n",
       "       [   9,   17],\n",
       "       [  10,   16],\n",
       "       [  11,   34],\n",
       "       [  12,   30],\n",
       "       [  13,   31],\n",
       "       [  14,   37],\n",
       "       [  15,   29],\n",
       "       [  16,   35],\n",
       "       [  17,   33],\n",
       "       [  18,   41],\n",
       "       [  19,   47],\n",
       "       [  20,   18],\n",
       "       [  21,   31],\n",
       "       [  22,   28],\n",
       "       [  23,   36],\n",
       "       [  24,   34],\n",
       "       [  25,   16],\n",
       "       [  26,   16],\n",
       "       [  27,   13],\n",
       "       [  28,   19],\n",
       "       [  29,    9],\n",
       "       [  30,    2],\n",
       "       [  31,    6],\n",
       "       [  32,    3],\n",
       "       [  33,    4],\n",
       "       [  34,    3],\n",
       "       [  35,    4],\n",
       "       [  36,    1],\n",
       "       [  37,    1],\n",
       "       [  40,    4],\n",
       "       [  41,    2],\n",
       "       [  47,    1]])"
      ]
     },
     "execution_count": 12,
     "metadata": {},
     "output_type": "execute_result"
    }
   ],
   "source": [
    "unique_counts"
   ]
  },
  {
   "cell_type": "code",
   "execution_count": 13,
   "id": "43722bf1-a362-4a2c-b108-1d209c3b75a1",
   "metadata": {},
   "outputs": [],
   "source": [
    "whitened_counts = whiten(unique_counts)\n",
    "codebook, _ = kmeans(whitened_counts, 3)"
   ]
  },
  {
   "cell_type": "code",
   "execution_count": 14,
   "id": "a3e6aaad-b4e3-4eb6-8e8d-372dfee83201",
   "metadata": {},
   "outputs": [],
   "source": [
    "codes, _ = vq(whitened_counts, codebook)"
   ]
  },
  {
   "cell_type": "code",
   "execution_count": 15,
   "id": "1e320750-15cc-4163-aee4-b09996eeae80",
   "metadata": {},
   "outputs": [],
   "source": [
    "ham_code = codes[0]\n",
    "spam_code = codes[-1]\n",
    "unknown_code = list(set(range(3)) ^ set((ham_code, spam_code)))[0]"
   ]
  },
  {
   "cell_type": "code",
   "execution_count": 16,
   "id": "9e6b850d-9023-41b7-90f7-1a6f08a0ec4b",
   "metadata": {},
   "outputs": [
    {
     "name": "stdout",
     "output_type": "stream",
     "text": [
      "definitely ham: [   0 4110]\n",
      "definitely spam: [47  1]\n",
      "unknown: [20 18]\n"
     ]
    }
   ],
   "source": [
    "print(\"definitely ham:\", unique_counts[codes == ham_code][-1])\n",
    "print(\"definitely spam:\", unique_counts[codes == spam_code][-1])\n",
    "print(\"unknown:\", unique_counts[codes == unknown_code][-1])"
   ]
  },
  {
   "cell_type": "code",
   "execution_count": 17,
   "id": "59f96acb-5eb2-41af-9ad4-70194e08445f",
   "metadata": {},
   "outputs": [],
   "source": [
    "digits = digit_counts[:, 1]\n",
    "predicted_hams = digits == 0\n",
    "predicted_spams = digits > 20\n",
    "predicted_unknowns = np.logical_and(digits > 0, digits <= 20)"
   ]
  },
  {
   "cell_type": "code",
   "execution_count": 18,
   "id": "46e76a68-d0f8-438f-8d82-32cc7ed7b141",
   "metadata": {},
   "outputs": [],
   "source": [
    "spam_cluster = digit_counts[predicted_spams]\n",
    "ham_cluster = digit_counts[predicted_hams]\n",
    "unk_cluster = digit_counts[predicted_unknowns]"
   ]
  },
  {
   "cell_type": "code",
   "execution_count": 19,
   "id": "1e87ea03-36e6-47e8-9fa3-dac434fdc38c",
   "metadata": {},
   "outputs": [
    {
     "name": "stdout",
     "output_type": "stream",
     "text": [
      "hams: (array([0, 1]), array([4071,   39]))\n",
      "spams: (array([0, 1]), array([  1, 232]))\n",
      "unknowns: (array([0, 1]), array([755, 476]))\n"
     ]
    }
   ],
   "source": [
    "print(\"hams:\", np.unique(ham_cluster[:, 0], return_counts=True))\n",
    "print(\"spams:\", np.unique(spam_cluster[:, 0], return_counts=True))\n",
    "print(\"unknowns:\", np.unique(unk_cluster[:, 0], return_counts=True))"
   ]
  },
  {
   "cell_type": "code",
   "execution_count": 20,
   "id": "4e035e68-d485-4432-a98d-cb0e1b188528",
   "metadata": {},
   "outputs": [],
   "source": [
    "from scipy.optimize import minimize_scalar\n",
    "\n",
    "def objective_function(x):\n",
    "    return 3 * x ** 4 - 2 * x + 1"
   ]
  },
  {
   "cell_type": "code",
   "execution_count": 21,
   "id": "ba8d45bf-9002-4e23-a5d2-ef2942e318d7",
   "metadata": {},
   "outputs": [],
   "source": [
    "res = minimize_scalar(objective_function)"
   ]
  },
  {
   "cell_type": "code",
   "execution_count": 22,
   "id": "fdeb7799-c431-43d8-b3bc-77f40db6bebe",
   "metadata": {},
   "outputs": [
    {
     "data": {
      "text/plain": [
       "     fun: 0.17451818777634331\n",
       "    nfev: 16\n",
       "     nit: 12\n",
       " success: True\n",
       "       x: 0.5503212087491959"
      ]
     },
     "execution_count": 22,
     "metadata": {},
     "output_type": "execute_result"
    }
   ],
   "source": [
    "res"
   ]
  },
  {
   "cell_type": "code",
   "execution_count": null,
   "id": "e77b0db5-1eb9-4f83-8dd8-8cd592406c7f",
   "metadata": {},
   "outputs": [],
   "source": []
  }
 ],
 "metadata": {
  "kernelspec": {
   "display_name": "base_env",
   "language": "python",
   "name": "base_env"
  },
  "language_info": {
   "codemirror_mode": {
    "name": "ipython",
    "version": 3
   },
   "file_extension": ".py",
   "mimetype": "text/x-python",
   "name": "python",
   "nbconvert_exporter": "python",
   "pygments_lexer": "ipython3",
   "version": "3.8.12"
  }
 },
 "nbformat": 4,
 "nbformat_minor": 5
}
